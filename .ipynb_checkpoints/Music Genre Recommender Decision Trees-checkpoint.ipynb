{
 "cells": [
  {
   "cell_type": "markdown",
   "id": "stainless-manner",
   "metadata": {},
   "source": [
    "# Music Genre Recommender using Decision Trees \n",
    "\n",
    "Using users age and gender, and based on their profile we recommend various music albums a new user would potentially want to buy. \n",
    "\n",
    "Music.csv assumptions:\n",
    "- Value 1 is male and 2 is female on the gender column in music.csv\n",
    "- Men between 20 - 25 like HipHop, female between 20 - 25 like Dance and so on\n",
    "\n",
    "Expected output:\n",
    "- If model is asked what a **Male of 21 years old** (no value in music.csv file) music genre is the expected output should be **HipHop**.\n",
    "- If model is asked what a **Female of 36 years old** (no value in music.csv file) music genre is the expected output should be **Classical**."
   ]
  },
  {
   "cell_type": "markdown",
   "id": "greek-angel",
   "metadata": {},
   "source": [
    "## 1. Importing the data"
   ]
  },
  {
   "cell_type": "code",
   "execution_count": null,
   "id": "right-dynamics",
   "metadata": {},
   "outputs": [],
   "source": [
    "import pandas as pd \n",
    "\n",
    "music_data = pd.read_csv('music.csv')\n",
    "music_data"
   ]
  },
  {
   "cell_type": "markdown",
   "id": "spread-accounting",
   "metadata": {},
   "source": [
    "## 2. Cleaning the data\n",
    "\n",
    "- Removing duplicates\n",
    "- Removing null values\n",
    "- Separarting input and output set\n",
    "\n"
   ]
  },
  {
   "cell_type": "code",
   "execution_count": null,
   "id": "greater-potato",
   "metadata": {},
   "outputs": [],
   "source": [
    "# Input set, Creates new dataset without genre (Question)\n",
    "X = music_data.drop(columns=['genre'])\n",
    "\n",
    "# Output set, Creates new dataset with genre (Answer)\n",
    "y = music_data['genre']"
   ]
  },
  {
   "cell_type": "markdown",
   "id": "greater-cargo",
   "metadata": {},
   "source": [
    "## 3. Split the data into training/test sets"
   ]
  },
  {
   "cell_type": "code",
   "execution_count": 40,
   "id": "brazilian-petersburg",
   "metadata": {},
   "outputs": [],
   "source": [
    "from sklearn.model_selection import train_test_split\n",
    "\n",
    "# Allocating 20% of the data for testing, and unpacking the tuple for input & output testing \n",
    "X_train, X_test, y_train, y_test = train_test_split(X, y, test_size=0.2)"
   ]
  },
  {
   "cell_type": "markdown",
   "id": "heard-zambia",
   "metadata": {},
   "source": [
    "## 4. Create a model and make predictions including the accurracy \n",
    "\n",
    "Using [scikit learn](https://scikit-learn.org/stable/) decision tree classifier model"
   ]
  },
  {
   "cell_type": "code",
   "execution_count": 68,
   "id": "electoral-links",
   "metadata": {},
   "outputs": [
    {
     "name": "stdout",
     "output_type": "stream",
     "text": [
      "Recommending HipHop for male aged 21\n",
      "Recommending Dance for female aged 22\n",
      "Accuracy 75.0%\n"
     ]
    }
   ],
   "source": [
    "from sklearn.tree import DecisionTreeClassifier\n",
    "from sklearn.metrics import accuracy_score\n",
    "\n",
    "gender = {1:\"male\", 0:\"female\"}\n",
    "\n",
    "model = DecisionTreeClassifier()\n",
    "# Train model so it learns patterns in the model using the input and output set\n",
    "model.fit(X_train, y_train)\n",
    "\n",
    "male_prediction = [21,1]\n",
    "female_prediction = [22,0]\n",
    "\n",
    "# Predict what a 21 year old male and 22 year old female genre is\n",
    "prediction = model.predict([male_prediction, female_prediction])\n",
    "\n",
    "# Calculate prediction accuracy\n",
    "predictions = model.predict(X_test)\n",
    "score = accuracy_score(y_test, predictions)\n",
    "\n",
    "print(f\"Recommending {prediction[0]} for {gender[male_prediction[1]]} aged {male_prediction[0]}\")\n",
    "print(f\"Recommending {prediction[1]} for {gender[female_prediction[1]]} aged {female_prediction[0]}\")\n",
    "print(f\"Accuracy {score*100}%\")\n"
   ]
  },
  {
   "cell_type": "markdown",
   "id": "superior-complement",
   "metadata": {},
   "source": [
    "## 5. Visualising a Decision Tree"
   ]
  },
  {
   "cell_type": "code",
   "execution_count": 71,
   "id": "automated-columbus",
   "metadata": {},
   "outputs": [],
   "source": [
    "from sklearn import tree\n",
    "\n",
    "# Creates a file for the decison tree\n",
    "tree.export_graphviz(model, \n",
    "                     out_file='music-recommender.dot', \n",
    "#                      Columns for the data\n",
    "                     feature_names=[\"age\", \"gender\"], \n",
    "#                      Sorted list of all unique values of genre column\n",
    "                     class_names=sorted(y.unique()), \n",
    "                    label=\"all\",\n",
    "                    rounded=True,\n",
    "                    filled=True)"
   ]
  }
 ],
 "metadata": {
  "kernelspec": {
   "display_name": "Python 3",
   "language": "python",
   "name": "python3"
  },
  "language_info": {
   "codemirror_mode": {
    "name": "ipython",
    "version": 3
   },
   "file_extension": ".py",
   "mimetype": "text/x-python",
   "name": "python",
   "nbconvert_exporter": "python",
   "pygments_lexer": "ipython3",
   "version": "3.8.5"
  }
 },
 "nbformat": 4,
 "nbformat_minor": 5
}
